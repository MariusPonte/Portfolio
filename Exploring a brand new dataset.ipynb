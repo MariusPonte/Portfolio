{
 "cells": [
  {
   "cell_type": "markdown",
   "metadata": {},
   "source": [
    "OK, so this dataset is completely new to me. The idea here is to show that, in Python Pandas, with just a few lines of code, you can get an high level view of a dataset. This example uses a dataset I googled. It contains player information from the famous foutball game FIFA 2018. This set provides a lot of player statistics. "
   ]
  },
  {
   "cell_type": "code",
   "execution_count": 1,
   "metadata": {
    "collapsed": true
   },
   "outputs": [],
   "source": [
    "## Basic library import (Pandas)\n",
    "import pandas as pd\n",
    "\n",
    "## Iport libraries for viasuals, just to give some insight in data visualisation:\n",
    "import seaborn as sns\n",
    "import matplotlib.pyplot as plt\n",
    "%matplotlib inline"
   ]
  },
  {
   "cell_type": "code",
   "execution_count": 2,
   "metadata": {
    "scrolled": false
   },
   "outputs": [
    {
     "name": "stderr",
     "output_type": "stream",
     "text": [
      "C:\\Users\\LTF\\Anaconda3\\lib\\site-packages\\IPython\\core\\interactiveshell.py:2717: DtypeWarning: Columns (23,35) have mixed types. Specify dtype option on import or set low_memory=False.\n",
      "  interactivity=interactivity, compiler=compiler, result=result)\n"
     ]
    },
    {
     "data": {
      "text/html": [
       "<div>\n",
       "<style>\n",
       "    .dataframe thead tr:only-child th {\n",
       "        text-align: right;\n",
       "    }\n",
       "\n",
       "    .dataframe thead th {\n",
       "        text-align: left;\n",
       "    }\n",
       "\n",
       "    .dataframe tbody tr th {\n",
       "        vertical-align: top;\n",
       "    }\n",
       "</style>\n",
       "<table border=\"1\" class=\"dataframe\">\n",
       "  <thead>\n",
       "    <tr style=\"text-align: right;\">\n",
       "      <th></th>\n",
       "      <th>Unnamed: 0</th>\n",
       "      <th>Name</th>\n",
       "      <th>Age</th>\n",
       "      <th>Photo</th>\n",
       "      <th>Nationality</th>\n",
       "      <th>Flag</th>\n",
       "      <th>Overall</th>\n",
       "      <th>Potential</th>\n",
       "      <th>Club</th>\n",
       "      <th>Club Logo</th>\n",
       "      <th>...</th>\n",
       "      <th>RB</th>\n",
       "      <th>RCB</th>\n",
       "      <th>RCM</th>\n",
       "      <th>RDM</th>\n",
       "      <th>RF</th>\n",
       "      <th>RM</th>\n",
       "      <th>RS</th>\n",
       "      <th>RW</th>\n",
       "      <th>RWB</th>\n",
       "      <th>ST</th>\n",
       "    </tr>\n",
       "  </thead>\n",
       "  <tbody>\n",
       "    <tr>\n",
       "      <th>0</th>\n",
       "      <td>0</td>\n",
       "      <td>Cristiano Ronaldo</td>\n",
       "      <td>32</td>\n",
       "      <td>https://cdn.sofifa.org/48/18/players/20801.png</td>\n",
       "      <td>Portugal</td>\n",
       "      <td>https://cdn.sofifa.org/flags/38.png</td>\n",
       "      <td>94</td>\n",
       "      <td>94</td>\n",
       "      <td>Real Madrid CF</td>\n",
       "      <td>https://cdn.sofifa.org/24/18/teams/243.png</td>\n",
       "      <td>...</td>\n",
       "      <td>61.0</td>\n",
       "      <td>53.0</td>\n",
       "      <td>82.0</td>\n",
       "      <td>62.0</td>\n",
       "      <td>91.0</td>\n",
       "      <td>89.0</td>\n",
       "      <td>92.0</td>\n",
       "      <td>91.0</td>\n",
       "      <td>66.0</td>\n",
       "      <td>92.0</td>\n",
       "    </tr>\n",
       "    <tr>\n",
       "      <th>1</th>\n",
       "      <td>1</td>\n",
       "      <td>L. Messi</td>\n",
       "      <td>30</td>\n",
       "      <td>https://cdn.sofifa.org/48/18/players/158023.png</td>\n",
       "      <td>Argentina</td>\n",
       "      <td>https://cdn.sofifa.org/flags/52.png</td>\n",
       "      <td>93</td>\n",
       "      <td>93</td>\n",
       "      <td>FC Barcelona</td>\n",
       "      <td>https://cdn.sofifa.org/24/18/teams/241.png</td>\n",
       "      <td>...</td>\n",
       "      <td>57.0</td>\n",
       "      <td>45.0</td>\n",
       "      <td>84.0</td>\n",
       "      <td>59.0</td>\n",
       "      <td>92.0</td>\n",
       "      <td>90.0</td>\n",
       "      <td>88.0</td>\n",
       "      <td>91.0</td>\n",
       "      <td>62.0</td>\n",
       "      <td>88.0</td>\n",
       "    </tr>\n",
       "    <tr>\n",
       "      <th>2</th>\n",
       "      <td>2</td>\n",
       "      <td>Neymar</td>\n",
       "      <td>25</td>\n",
       "      <td>https://cdn.sofifa.org/48/18/players/190871.png</td>\n",
       "      <td>Brazil</td>\n",
       "      <td>https://cdn.sofifa.org/flags/54.png</td>\n",
       "      <td>92</td>\n",
       "      <td>94</td>\n",
       "      <td>Paris Saint-Germain</td>\n",
       "      <td>https://cdn.sofifa.org/24/18/teams/73.png</td>\n",
       "      <td>...</td>\n",
       "      <td>59.0</td>\n",
       "      <td>46.0</td>\n",
       "      <td>79.0</td>\n",
       "      <td>59.0</td>\n",
       "      <td>88.0</td>\n",
       "      <td>87.0</td>\n",
       "      <td>84.0</td>\n",
       "      <td>89.0</td>\n",
       "      <td>64.0</td>\n",
       "      <td>84.0</td>\n",
       "    </tr>\n",
       "    <tr>\n",
       "      <th>3</th>\n",
       "      <td>3</td>\n",
       "      <td>L. Suárez</td>\n",
       "      <td>30</td>\n",
       "      <td>https://cdn.sofifa.org/48/18/players/176580.png</td>\n",
       "      <td>Uruguay</td>\n",
       "      <td>https://cdn.sofifa.org/flags/60.png</td>\n",
       "      <td>92</td>\n",
       "      <td>92</td>\n",
       "      <td>FC Barcelona</td>\n",
       "      <td>https://cdn.sofifa.org/24/18/teams/241.png</td>\n",
       "      <td>...</td>\n",
       "      <td>64.0</td>\n",
       "      <td>58.0</td>\n",
       "      <td>80.0</td>\n",
       "      <td>65.0</td>\n",
       "      <td>88.0</td>\n",
       "      <td>85.0</td>\n",
       "      <td>88.0</td>\n",
       "      <td>87.0</td>\n",
       "      <td>68.0</td>\n",
       "      <td>88.0</td>\n",
       "    </tr>\n",
       "    <tr>\n",
       "      <th>4</th>\n",
       "      <td>4</td>\n",
       "      <td>M. Neuer</td>\n",
       "      <td>31</td>\n",
       "      <td>https://cdn.sofifa.org/48/18/players/167495.png</td>\n",
       "      <td>Germany</td>\n",
       "      <td>https://cdn.sofifa.org/flags/21.png</td>\n",
       "      <td>92</td>\n",
       "      <td>92</td>\n",
       "      <td>FC Bayern Munich</td>\n",
       "      <td>https://cdn.sofifa.org/24/18/teams/21.png</td>\n",
       "      <td>...</td>\n",
       "      <td>NaN</td>\n",
       "      <td>NaN</td>\n",
       "      <td>NaN</td>\n",
       "      <td>NaN</td>\n",
       "      <td>NaN</td>\n",
       "      <td>NaN</td>\n",
       "      <td>NaN</td>\n",
       "      <td>NaN</td>\n",
       "      <td>NaN</td>\n",
       "      <td>NaN</td>\n",
       "    </tr>\n",
       "  </tbody>\n",
       "</table>\n",
       "<p>5 rows × 75 columns</p>\n",
       "</div>"
      ],
      "text/plain": [
       "   Unnamed: 0               Name  Age  \\\n",
       "0           0  Cristiano Ronaldo   32   \n",
       "1           1           L. Messi   30   \n",
       "2           2             Neymar   25   \n",
       "3           3          L. Suárez   30   \n",
       "4           4           M. Neuer   31   \n",
       "\n",
       "                                             Photo Nationality  \\\n",
       "0   https://cdn.sofifa.org/48/18/players/20801.png    Portugal   \n",
       "1  https://cdn.sofifa.org/48/18/players/158023.png   Argentina   \n",
       "2  https://cdn.sofifa.org/48/18/players/190871.png      Brazil   \n",
       "3  https://cdn.sofifa.org/48/18/players/176580.png     Uruguay   \n",
       "4  https://cdn.sofifa.org/48/18/players/167495.png     Germany   \n",
       "\n",
       "                                  Flag  Overall  Potential  \\\n",
       "0  https://cdn.sofifa.org/flags/38.png       94         94   \n",
       "1  https://cdn.sofifa.org/flags/52.png       93         93   \n",
       "2  https://cdn.sofifa.org/flags/54.png       92         94   \n",
       "3  https://cdn.sofifa.org/flags/60.png       92         92   \n",
       "4  https://cdn.sofifa.org/flags/21.png       92         92   \n",
       "\n",
       "                  Club                                   Club Logo  ...   \\\n",
       "0       Real Madrid CF  https://cdn.sofifa.org/24/18/teams/243.png  ...    \n",
       "1         FC Barcelona  https://cdn.sofifa.org/24/18/teams/241.png  ...    \n",
       "2  Paris Saint-Germain   https://cdn.sofifa.org/24/18/teams/73.png  ...    \n",
       "3         FC Barcelona  https://cdn.sofifa.org/24/18/teams/241.png  ...    \n",
       "4     FC Bayern Munich   https://cdn.sofifa.org/24/18/teams/21.png  ...    \n",
       "\n",
       "     RB   RCB   RCM   RDM    RF    RM    RS    RW   RWB    ST  \n",
       "0  61.0  53.0  82.0  62.0  91.0  89.0  92.0  91.0  66.0  92.0  \n",
       "1  57.0  45.0  84.0  59.0  92.0  90.0  88.0  91.0  62.0  88.0  \n",
       "2  59.0  46.0  79.0  59.0  88.0  87.0  84.0  89.0  64.0  84.0  \n",
       "3  64.0  58.0  80.0  65.0  88.0  85.0  88.0  87.0  68.0  88.0  \n",
       "4   NaN   NaN   NaN   NaN   NaN   NaN   NaN   NaN   NaN   NaN  \n",
       "\n",
       "[5 rows x 75 columns]"
      ]
     },
     "execution_count": 2,
     "metadata": {},
     "output_type": "execute_result"
    }
   ],
   "source": [
    "## Step 1: We import the CSV file with one line of code and present the first few rows in the Notebook.\n",
    "df = pd.read_csv('C:\\\\Users\\\\LTF\\\\CompleteDataset.csv', sep = ',') \n",
    "df.head()"
   ]
  },
  {
   "cell_type": "markdown",
   "metadata": {},
   "source": [
    "DtypeWarning is actually proof that the set is completely new to me. This is the sort of thing that we actually cope with in data analysis. In this case, we will use the columns that do make sense and leave some issues behind us, to keep within the scope of this Notebook."
   ]
  },
  {
   "cell_type": "code",
   "execution_count": 3,
   "metadata": {
    "scrolled": true
   },
   "outputs": [
    {
     "data": {
      "text/plain": [
       "['Unnamed: 0',\n",
       " 'Name',\n",
       " 'Age',\n",
       " 'Photo',\n",
       " 'Nationality',\n",
       " 'Flag',\n",
       " 'Overall',\n",
       " 'Potential',\n",
       " 'Club',\n",
       " 'Club Logo',\n",
       " 'Value',\n",
       " 'Wage',\n",
       " 'Special',\n",
       " 'Acceleration',\n",
       " 'Aggression',\n",
       " 'Agility',\n",
       " 'Balance',\n",
       " 'Ball control',\n",
       " 'Composure',\n",
       " 'Crossing',\n",
       " 'Curve',\n",
       " 'Dribbling',\n",
       " 'Finishing',\n",
       " 'Free kick accuracy',\n",
       " 'GK diving',\n",
       " 'GK handling',\n",
       " 'GK kicking',\n",
       " 'GK positioning',\n",
       " 'GK reflexes',\n",
       " 'Heading accuracy',\n",
       " 'Interceptions',\n",
       " 'Jumping',\n",
       " 'Long passing',\n",
       " 'Long shots',\n",
       " 'Marking',\n",
       " 'Penalties',\n",
       " 'Positioning',\n",
       " 'Reactions',\n",
       " 'Short passing',\n",
       " 'Shot power',\n",
       " 'Sliding tackle',\n",
       " 'Sprint speed',\n",
       " 'Stamina',\n",
       " 'Standing tackle',\n",
       " 'Strength',\n",
       " 'Vision',\n",
       " 'Volleys',\n",
       " 'CAM',\n",
       " 'CB',\n",
       " 'CDM',\n",
       " 'CF',\n",
       " 'CM',\n",
       " 'ID',\n",
       " 'LAM',\n",
       " 'LB',\n",
       " 'LCB',\n",
       " 'LCM',\n",
       " 'LDM',\n",
       " 'LF',\n",
       " 'LM',\n",
       " 'LS',\n",
       " 'LW',\n",
       " 'LWB',\n",
       " 'Preferred Positions',\n",
       " 'RAM',\n",
       " 'RB',\n",
       " 'RCB',\n",
       " 'RCM',\n",
       " 'RDM',\n",
       " 'RF',\n",
       " 'RM',\n",
       " 'RS',\n",
       " 'RW',\n",
       " 'RWB',\n",
       " 'ST']"
      ]
     },
     "execution_count": 3,
     "metadata": {},
     "output_type": "execute_result"
    }
   ],
   "source": [
    "## Ok, so that's 75 columns. Difficult to graps at once. Let's first look at these column names to find anything relevant.\n",
    "## Step 2: Basic exploration of the set.\n",
    "list(df)"
   ]
  },
  {
   "cell_type": "code",
   "execution_count": 135,
   "metadata": {},
   "outputs": [
    {
     "data": {
      "image/png": "[encoded data removed]",
      "text/plain": [
       "<matplotlib.figure.Figure at 0xf885c8ccc0>"
      ]
     },
     "metadata": {},
     "output_type": "display_data"
    }
   ],
   "source": [
    "## Step 3: We want to figure out the interaction between a players age and their overall ability. \n",
    "## With just two lines of code we create a subset containing Age and Overall ability and we set up some basic visual.\n",
    "\n",
    "Set = df[df.Age < 40][['Age', 'Overall']]\n",
    "Graph = Set.groupby('Age').mean().plot(kind = 'line', figsize =(8,5), title = 'Ability peaks at age 30', colormap = 'copper')"
   ]
  },
  {
   "cell_type": "code",
   "execution_count": 4,
   "metadata": {
    "scrolled": true
   },
   "outputs": [
    {
     "data": {
      "text/plain": [
       "Unnamed: 0               int64\n",
       "Name                    object\n",
       "Age                      int64\n",
       "Photo                   object\n",
       "Nationality             object\n",
       "Flag                    object\n",
       "Overall                  int64\n",
       "Potential                int64\n",
       "Club                    object\n",
       "Club Logo               object\n",
       "Value                   object\n",
       "Wage                    object\n",
       "Special                  int64\n",
       "Acceleration            object\n",
       "Aggression              object\n",
       "Agility                 object\n",
       "Balance                 object\n",
       "Ball control            object\n",
       "Composure               object\n",
       "Crossing                object\n",
       "Curve                   object\n",
       "Dribbling               object\n",
       "Finishing               object\n",
       "Free kick accuracy      object\n",
       "GK diving               object\n",
       "GK handling             object\n",
       "GK kicking              object\n",
       "GK positioning          object\n",
       "GK reflexes             object\n",
       "Heading accuracy        object\n",
       "                        ...   \n",
       "Vision                  object\n",
       "Volleys                 object\n",
       "CAM                    float64\n",
       "CB                     float64\n",
       "CDM                    float64\n",
       "CF                     float64\n",
       "CM                     float64\n",
       "ID                       int64\n",
       "LAM                    float64\n",
       "LB                     float64\n",
       "LCB                    float64\n",
       "LCM                    float64\n",
       "LDM                    float64\n",
       "LF                     float64\n",
       "LM                     float64\n",
       "LS                     float64\n",
       "LW                     float64\n",
       "LWB                    float64\n",
       "Preferred Positions     object\n",
       "RAM                    float64\n",
       "RB                     float64\n",
       "RCB                    float64\n",
       "RCM                    float64\n",
       "RDM                    float64\n",
       "RF                     float64\n",
       "RM                     float64\n",
       "RS                     float64\n",
       "RW                     float64\n",
       "RWB                    float64\n",
       "ST                     float64\n",
       "Length: 75, dtype: object"
      ]
     },
     "execution_count": 4,
     "metadata": {},
     "output_type": "execute_result"
    }
   ],
   "source": [
    "## Lets see what the datatypes are. Mostly because we want to explore some correlations between different columns next. \n",
    "## We therefor need to find numeric columns.\n",
    "df.dtypes"
   ]
  },
  {
   "cell_type": "code",
   "execution_count": 5,
   "metadata": {
    "scrolled": true
   },
   "outputs": [
    {
     "name": "stdout",
     "output_type": "stream",
     "text": [
      "                Age   Overall  Potential   Special\n",
      "Age        1.000000  0.459765  -0.218264  0.238667\n",
      "Overall    0.459765  1.000000   0.683474  0.604092\n",
      "Potential -0.218264  0.683474   1.000000  0.399511\n",
      "Special    0.238667  0.604092   0.399511  1.000000\n"
     ]
    }
   ],
   "source": [
    "## Step 4: Correlation\n",
    "## Let's define a few variables in the dataset and see how they are correlated. \n",
    "## Again, less is more, two lines of code:\n",
    "\n",
    "CorrelationSet = df[['Age', 'Overall', 'Potential', 'Special']]\n",
    "Correlation = CorrelationSet.corr()\n",
    "print (Correlation)"
   ]
  },
  {
   "cell_type": "code",
   "execution_count": 6,
   "metadata": {},
   "outputs": [
    {
     "data": {
      "text/html": [
       "<div>\n",
       "<style>\n",
       "    .dataframe thead tr:only-child th {\n",
       "        text-align: right;\n",
       "    }\n",
       "\n",
       "    .dataframe thead th {\n",
       "        text-align: left;\n",
       "    }\n",
       "\n",
       "    .dataframe tbody tr th {\n",
       "        vertical-align: top;\n",
       "    }\n",
       "</style>\n",
       "<table border=\"1\" class=\"dataframe\">\n",
       "  <thead>\n",
       "    <tr style=\"text-align: right;\">\n",
       "      <th></th>\n",
       "      <th>Age</th>\n",
       "      <th>Overall</th>\n",
       "      <th>Potential</th>\n",
       "      <th>Special</th>\n",
       "    </tr>\n",
       "  </thead>\n",
       "  <tbody>\n",
       "    <tr>\n",
       "      <th>Age</th>\n",
       "      <td>1.000000</td>\n",
       "      <td>0.459765</td>\n",
       "      <td>-0.218264</td>\n",
       "      <td>0.238667</td>\n",
       "    </tr>\n",
       "    <tr>\n",
       "      <th>Overall</th>\n",
       "      <td>0.459765</td>\n",
       "      <td>1.000000</td>\n",
       "      <td>0.683474</td>\n",
       "      <td>0.604092</td>\n",
       "    </tr>\n",
       "    <tr>\n",
       "      <th>Potential</th>\n",
       "      <td>-0.218264</td>\n",
       "      <td>0.683474</td>\n",
       "      <td>1.000000</td>\n",
       "      <td>0.399511</td>\n",
       "    </tr>\n",
       "    <tr>\n",
       "      <th>Special</th>\n",
       "      <td>0.238667</td>\n",
       "      <td>0.604092</td>\n",
       "      <td>0.399511</td>\n",
       "      <td>1.000000</td>\n",
       "    </tr>\n",
       "  </tbody>\n",
       "</table>\n",
       "</div>"
      ],
      "text/plain": [
       "                Age   Overall  Potential   Special\n",
       "Age        1.000000  0.459765  -0.218264  0.238667\n",
       "Overall    0.459765  1.000000   0.683474  0.604092\n",
       "Potential -0.218264  0.683474   1.000000  0.399511\n",
       "Special    0.238667  0.604092   0.399511  1.000000"
      ]
     },
     "execution_count": 6,
     "metadata": {},
     "output_type": "execute_result"
    },
    {
     "data": {
      "image/png": "[encoded data removed]",
      "text/plain": [
       "<matplotlib.figure.Figure at 0x43cf39b2b0>"
      ]
     },
     "metadata": {},
     "output_type": "display_data"
    }
   ],
   "source": [
    "## Step 5: Visualizing correlation\n",
    "## Create a simple correlation matrix from the results above:\n",
    "\n",
    "sns.heatmap(Correlation, \n",
    "            xticklabels=Correlation.columns.values,\n",
    "            yticklabels=Correlation.columns.values)\n",
    "sns.plt.title('Correlation Matrix')\n",
    "Correlation"
   ]
  },
  {
   "cell_type": "markdown",
   "metadata": {},
   "source": [
    "So, what does this Correlation Matrix tell about the data?\n",
    "Generally speeking, age and Overall ability are positively correlated. This shows the importance of looking at your data from different points of view, since we say earlier that average ability indeed went up as age increases, but only up to a certain point, namely age 30.\n",
    "\n",
    "Ok, what's next: Age and Potential have a negative correlation. Seems logical that younger players are more promissing than players in the latest stage of their career.\n",
    "\n",
    "Lastly, I would say that the string correlation between Overall ability and the amount of Specialness (probably not a word, but you follow what I am saying...) is important to note."
   ]
  },
  {
   "cell_type": "code",
   "execution_count": 8,
   "metadata": {},
   "outputs": [
    {
     "data": {
      "text/html": [
       "<div>\n",
       "<style>\n",
       "    .dataframe thead tr:only-child th {\n",
       "        text-align: right;\n",
       "    }\n",
       "\n",
       "    .dataframe thead th {\n",
       "        text-align: left;\n",
       "    }\n",
       "\n",
       "    .dataframe tbody tr th {\n",
       "        vertical-align: top;\n",
       "    }\n",
       "</style>\n",
       "<table border=\"1\" class=\"dataframe\">\n",
       "  <thead>\n",
       "    <tr style=\"text-align: right;\">\n",
       "      <th></th>\n",
       "      <th>Overall</th>\n",
       "    </tr>\n",
       "    <tr>\n",
       "      <th>Club</th>\n",
       "      <th></th>\n",
       "    </tr>\n",
       "  </thead>\n",
       "  <tbody>\n",
       "    <tr>\n",
       "      <th>FC Barcelona</th>\n",
       "      <td>82.560000</td>\n",
       "    </tr>\n",
       "    <tr>\n",
       "      <th>Juventus</th>\n",
       "      <td>81.653846</td>\n",
       "    </tr>\n",
       "    <tr>\n",
       "      <th>Real Madrid CF</th>\n",
       "      <td>81.038462</td>\n",
       "    </tr>\n",
       "    <tr>\n",
       "      <th>FC Bayern Munich</th>\n",
       "      <td>79.423077</td>\n",
       "    </tr>\n",
       "    <tr>\n",
       "      <th>Paris Saint-Germain</th>\n",
       "      <td>77.964286</td>\n",
       "    </tr>\n",
       "    <tr>\n",
       "      <th>Manchester United</th>\n",
       "      <td>77.705882</td>\n",
       "    </tr>\n",
       "    <tr>\n",
       "      <th>Napoli</th>\n",
       "      <td>77.653846</td>\n",
       "    </tr>\n",
       "    <tr>\n",
       "      <th>Roma</th>\n",
       "      <td>77.370370</td>\n",
       "    </tr>\n",
       "    <tr>\n",
       "      <th>Sevilla FC</th>\n",
       "      <td>76.961538</td>\n",
       "    </tr>\n",
       "    <tr>\n",
       "      <th>Inter</th>\n",
       "      <td>76.720000</td>\n",
       "    </tr>\n",
       "    <tr>\n",
       "      <th>Chelsea</th>\n",
       "      <td>76.666667</td>\n",
       "    </tr>\n",
       "    <tr>\n",
       "      <th>Sporting CP</th>\n",
       "      <td>76.281250</td>\n",
       "    </tr>\n",
       "    <tr>\n",
       "      <th>FC Porto</th>\n",
       "      <td>76.096774</td>\n",
       "    </tr>\n",
       "  </tbody>\n",
       "</table>\n",
       "</div>"
      ],
      "text/plain": [
       "                       Overall\n",
       "Club                          \n",
       "FC Barcelona         82.560000\n",
       "Juventus             81.653846\n",
       "Real Madrid CF       81.038462\n",
       "FC Bayern Munich     79.423077\n",
       "Paris Saint-Germain  77.964286\n",
       "Manchester United    77.705882\n",
       "Napoli               77.653846\n",
       "Roma                 77.370370\n",
       "Sevilla FC           76.961538\n",
       "Inter                76.720000\n",
       "Chelsea              76.666667\n",
       "Sporting CP          76.281250\n",
       "FC Porto             76.096774"
      ]
     },
     "execution_count": 8,
     "metadata": {},
     "output_type": "execute_result"
    }
   ],
   "source": [
    "## OK, last up for this dataset: We can group the set by club and find the Overall ability average of their players.\n",
    "## Step 6: Create a DataFrame containing clubs and their average Overall scores. Then apply a filter > 76 to see the best teams.\n",
    "\n",
    "ClubsDataFrame = pd.DataFrame(df.groupby('Club').Overall.mean())\n",
    "Topclubs = ClubsDataFrame[ClubsDataFrame.Overall > 76]\n",
    "Topclubs_Sorted = Topclubs.sort_values('Overall', ascending = False, inplace = False)\n",
    "Topclubs_Sorted"
   ]
  },
  {
   "cell_type": "code",
   "execution_count": 60,
   "metadata": {
    "scrolled": false
   },
   "outputs": [
    {
     "data": {
      "text/plain": [
       "<matplotlib.axes._subplots.AxesSubplot at 0x43dc9f48d0>"
      ]
     },
     "execution_count": 60,
     "metadata": {},
     "output_type": "execute_result"
    },
    {
     "data": {
      "image/png": "[encoded data removed]",
      "text/plain": [
       "<matplotlib.figure.Figure at 0x43dd008eb8>"
      ]
     },
     "metadata": {},
     "output_type": "display_data"
    }
   ],
   "source": [
    "Topclubs.plot(kind = 'line', colormap = 'cool', legend = False, title = 'Topclubs',figsize = (12,7))"
   ]
  },
  {
   "cell_type": "code",
   "execution_count": 41,
   "metadata": {},
   "outputs": [
    {
     "data": {
      "text/plain": [
       "<matplotlib.axes._subplots.AxesSubplot at 0x43de956f28>"
      ]
     },
     "execution_count": 41,
     "metadata": {},
     "output_type": "execute_result"
    },
    {
     "data": {
      "image/png": "[encoded data removed]",
      "text/plain": [
       "<matplotlib.figure.Figure at 0x43da8d32e8>"
      ]
     },
     "metadata": {},
     "output_type": "display_data"
    }
   ],
   "source": [
    "df_top = df[df.Nationality.isin(['Portugal', 'Netherlands','Germany', 'Belgium', 'Spain'])]\n",
    "sns.boxplot(df_top.Overall, df_top.Nationality)"
   ]
  },
  {
   "cell_type": "markdown",
   "metadata": {},
   "source": [
    "OK, since I am from the Netherlands, I will dig one layer deeper in my own country. There is this beautiful graph called a Violin chart. It combined the distribution of a feature (like a Boxplot) and the probability of that feature (like a KDE). So, let's see how that looks for Overall ability of Dutch players:"
   ]
  },
  {
   "cell_type": "code",
   "execution_count": 66,
   "metadata": {
    "scrolled": true
   },
   "outputs": [
    {
     "data": {
      "text/plain": [
       "<matplotlib.axes._subplots.AxesSubplot at 0x43d7d95320>"
      ]
     },
     "execution_count": 66,
     "metadata": {},
     "output_type": "execute_result"
    },
    {
     "data": {
      "image/png": "[encoded data removed]",
      "text/plain": [
       "<matplotlib.figure.Figure at 0x43dc9a6470>"
      ]
     },
     "metadata": {},
     "output_type": "display_data"
    }
   ],
   "source": [
    "df_top = df[df.Nationality.isin(['Netherlands'])]\n",
    "sns.set_style(\"ticks\")\n",
    "sns.violinplot (df_top.Overall, df_top.Nationality, color ='#008b76')"
   ]
  },
  {
   "cell_type": "markdown",
   "metadata": {},
   "source": [
    "Conclusion: If you count the actual lines of code in this Notebook, you will find that with just 24 lines of code, you can actually learn quite a bit when exploring new data in Pyhton Pandas. In making basic selections and visuals, you can also compose a few basic statistics. "
   ]
  }
 ],
 "metadata": {
  "kernelspec": {
   "display_name": "Python 3",
   "language": "python",
   "name": "python3"
  },
  "language_info": {
   "codemirror_mode": {
    "name": "ipython",
    "version": 3
   },
   "file_extension": ".py",
   "mimetype": "text/x-python",
   "name": "python",
   "nbconvert_exporter": "python",
   "pygments_lexer": "ipython3",
   "version": "3.6.1"
  }
 },
 "nbformat": 4,
 "nbformat_minor": 2
}
